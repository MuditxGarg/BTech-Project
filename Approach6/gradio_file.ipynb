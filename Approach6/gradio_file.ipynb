{
 "cells": [
  {
   "cell_type": "code",
   "execution_count": 34,
   "metadata": {},
   "outputs": [
    {
     "name": "stderr",
     "output_type": "stream",
     "text": [
      "c:\\Users\\gargm\\Desktop\\Projects\\BTech\\.venv\\Lib\\site-packages\\gradio\\layouts\\column.py:55: UserWarning: 'scale' value should be an integer. Using 0.7 will cause issues.\n",
      "  warnings.warn(\n",
      "c:\\Users\\gargm\\Desktop\\Projects\\BTech\\.venv\\Lib\\site-packages\\gradio\\layouts\\column.py:55: UserWarning: 'scale' value should be an integer. Using 3.3 will cause issues.\n",
      "  warnings.warn(\n",
      "c:\\Users\\gargm\\Desktop\\Projects\\BTech\\.venv\\Lib\\site-packages\\gradio\\components\\chatbot.py:223: UserWarning: You have not specified a value for the `type` parameter. Defaulting to the 'tuples' format for chatbot messages, but this is deprecated and will be removed in a future version of Gradio. Please set type='messages' instead, which uses openai-style 'role' and 'content' keys.\n",
      "  warnings.warn(\n"
     ]
    },
    {
     "name": "stdout",
     "output_type": "stream",
     "text": [
      "* Running on local URL:  http://127.0.0.1:7883\n",
      "\n",
      "To create a public link, set `share=True` in `launch()`.\n"
     ]
    },
    {
     "data": {
      "text/html": [
       "<div><iframe src=\"http://127.0.0.1:7883/\" width=\"100%\" height=\"500\" allow=\"autoplay; camera; microphone; clipboard-read; clipboard-write;\" frameborder=\"0\" allowfullscreen></iframe></div>"
      ],
      "text/plain": [
       "<IPython.core.display.HTML object>"
      ]
     },
     "metadata": {},
     "output_type": "display_data"
    }
   ],
   "source": [
    "import gradio as gr\n",
    "\n",
    "def chat_with_gpt(history, user_input):\n",
    "    # Placeholder logic for chat response\n",
    "    return history + [(user_input, \"This is a response\")], \"\"\n",
    "\n",
    "def chatbot_interface():\n",
    "    with gr.Blocks(css=\"\"\"\n",
    "        /* Set the overall container background */\n",
    "        body {background-color: #2a2866;}\n",
    "        .gradio-container {background-color: #2a2866;}\n",
    "\n",
    "        /* Customize the chatbox area */\n",
    "        #chatbot {background-color: #c7e6f8; padding: 10px; border-radius: 8px;}\n",
    "\n",
    "        /* Style for each user and response message */\n",
    "        #chatbot .message {\n",
    "            background-color: #808080;  /* Grey background for messages */\n",
    "            color: white;               /* White text for messages */\n",
    "            border-radius: 5px;\n",
    "            padding: 8px;\n",
    "            margin: 5px 0;\n",
    "        }\n",
    "\n",
    "        /* Style the prompt textbox */\n",
    "        #input_box textarea {\n",
    "            background-color: #c7e6f8;  /* Light blue background */\n",
    "            color: black;\n",
    "            border: none;               /* Remove border */\n",
    "            border-radius: 5px;\n",
    "            padding: 8px;\n",
    "        }\n",
    "\n",
    "        /* Style the \"New Chat\" button without a background color */\n",
    "        .gr-button.new-chat {\n",
    "            color: white;\n",
    "            border: 1px solid white;\n",
    "            padding: 8px;\n",
    "            background: none;\n",
    "        }\n",
    "\n",
    "        /* Style the previous chat items to appear as labels and align left */\n",
    "        .history-button {\n",
    "            background: none;\n",
    "            border: none;\n",
    "            color: white;\n",
    "            font-size: 14px;\n",
    "            text-align: left;\n",
    "            display: flex;\n",
    "            align-items: center;\n",
    "            gap: 8px;\n",
    "            cursor: pointer;\n",
    "            justify-content: flex-start;\n",
    "        }\n",
    "\n",
    "        /* Align the emoji on the left and use square chat emoji for history */\n",
    "        .history-button::before {\n",
    "            content: \"\\\\1F5E8\"; /* Unicode for square speech bubble emoji */\n",
    "            margin-right: 5px;\n",
    "        }\n",
    "\n",
    "        /* Hover effect for previous chats */\n",
    "        .history-button:hover {\n",
    "            color: #c7e6f8;\n",
    "        }\n",
    "\n",
    "        /* Smaller send button */\n",
    "        #send_button {\n",
    "            width: 36px;\n",
    "            height: 36px;\n",
    "            background-color: #c7e6f8;\n",
    "            color: black;\n",
    "            border: none;\n",
    "            font-size: 16px;\n",
    "            display: flex;\n",
    "            align-items: center;\n",
    "            justify-content: center;\n",
    "            border-radius: 5px;\n",
    "        }\n",
    "    \"\"\") as demo:\n",
    "        with gr.Row():\n",
    "            # Chatbot title and logo placeholder\n",
    "            gr.Markdown(\"# Chatbot Name\", elem_id=\"chatbot-title\")\n",
    "            # Placeholder for logo image if needed, e.g., gr.Image(\"path/to/logo.png\")\n",
    "\n",
    "        with gr.Row():\n",
    "            # Adjusted column sizes: narrow sidebar and larger chat area\n",
    "            with gr.Column(scale=0.7):  # Decreased scale for the left sidebar\n",
    "                gr.Button(\"+ New chat\", elem_classes=[\"new-chat\"])\n",
    "                for i in range(3):\n",
    "                    gr.Button(f\"Chat {i+1}\", elem_classes=[\"history-button\"])\n",
    "\n",
    "            with gr.Column(scale=3.3):  # Increased scale for the chat area\n",
    "                chatbot = gr.Chatbot(elem_id=\"chatbot\")\n",
    "\n",
    "                # Input box and send button in a row\n",
    "                with gr.Row():\n",
    "                    input_box = gr.Textbox(show_label=False, placeholder=\"Start Typing\", lines=1, elem_id=\"input_box\")\n",
    "                    send_button = gr.Button(\"\\u27A4\", elem_id=\"send_button\")  # Smaller send button\n",
    "\n",
    "                    # Link the input submission and button click to `chat_with_gpt` function\n",
    "                    send_button.click(fn=chat_with_gpt, inputs=[chatbot, input_box], outputs=[chatbot, input_box])\n",
    "                    input_box.submit(fn=chat_with_gpt, inputs=[chatbot, input_box], outputs=[chatbot, input_box])\n",
    "\n",
    "    demo.launch()\n",
    "\n",
    "chatbot_interface()\n"
   ]
  }
 ],
 "metadata": {
  "kernelspec": {
   "display_name": ".venv",
   "language": "python",
   "name": "python3"
  },
  "language_info": {
   "codemirror_mode": {
    "name": "ipython",
    "version": 3
   },
   "file_extension": ".py",
   "mimetype": "text/x-python",
   "name": "python",
   "nbconvert_exporter": "python",
   "pygments_lexer": "ipython3",
   "version": "3.12.3"
  }
 },
 "nbformat": 4,
 "nbformat_minor": 2
}
